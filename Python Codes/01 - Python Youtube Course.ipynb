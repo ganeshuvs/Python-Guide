{
 "cells": [
  {
   "cell_type": "code",
   "execution_count": 1,
   "metadata": {},
   "outputs": [],
   "source": [
    "list1 = [1,2,3,4]"
   ]
  },
  {
   "cell_type": "code",
   "execution_count": 2,
   "metadata": {},
   "outputs": [],
   "source": [
    "list2 = [5,6,7,8]"
   ]
  },
  {
   "cell_type": "code",
   "execution_count": 3,
   "metadata": {},
   "outputs": [
    {
     "data": {
      "text/plain": [
       "[1, 2, 3, 4, 5, 6, 7, 8]"
      ]
     },
     "execution_count": 3,
     "metadata": {},
     "output_type": "execute_result"
    }
   ],
   "source": [
    "list1 + list2"
   ]
  },
  {
   "cell_type": "code",
   "execution_count": 4,
   "metadata": {},
   "outputs": [],
   "source": [
    "list1.append(3)"
   ]
  },
  {
   "cell_type": "code",
   "execution_count": 5,
   "metadata": {},
   "outputs": [
    {
     "data": {
      "text/plain": [
       "[1, 2, 3, 4, 3]"
      ]
     },
     "execution_count": 5,
     "metadata": {},
     "output_type": "execute_result"
    }
   ],
   "source": [
    "list1"
   ]
  },
  {
   "cell_type": "code",
   "execution_count": 6,
   "metadata": {},
   "outputs": [
    {
     "name": "stdout",
     "output_type": "stream",
     "text": [
      "{1, 2, 3, 4}\n"
     ]
    },
    {
     "data": {
      "text/plain": [
       "['__add__',\n",
       " '__class__',\n",
       " '__contains__',\n",
       " '__delattr__',\n",
       " '__delitem__',\n",
       " '__dir__',\n",
       " '__doc__',\n",
       " '__eq__',\n",
       " '__format__',\n",
       " '__ge__',\n",
       " '__getattribute__',\n",
       " '__getitem__',\n",
       " '__gt__',\n",
       " '__hash__',\n",
       " '__iadd__',\n",
       " '__imul__',\n",
       " '__init__',\n",
       " '__init_subclass__',\n",
       " '__iter__',\n",
       " '__le__',\n",
       " '__len__',\n",
       " '__lt__',\n",
       " '__mul__',\n",
       " '__ne__',\n",
       " '__new__',\n",
       " '__reduce__',\n",
       " '__reduce_ex__',\n",
       " '__repr__',\n",
       " '__reversed__',\n",
       " '__rmul__',\n",
       " '__setattr__',\n",
       " '__setitem__',\n",
       " '__sizeof__',\n",
       " '__str__',\n",
       " '__subclasshook__',\n",
       " 'append',\n",
       " 'clear',\n",
       " 'copy',\n",
       " 'count',\n",
       " 'extend',\n",
       " 'index',\n",
       " 'insert',\n",
       " 'pop',\n",
       " 'remove',\n",
       " 'reverse',\n",
       " 'sort']"
      ]
     },
     "execution_count": 6,
     "metadata": {},
     "output_type": "execute_result"
    }
   ],
   "source": [
    "print(set(list1))\n",
    "dir(list1)"
   ]
  },
  {
   "cell_type": "code",
   "execution_count": 7,
   "metadata": {},
   "outputs": [],
   "source": [
    "list1.sort()"
   ]
  },
  {
   "cell_type": "code",
   "execution_count": 8,
   "metadata": {},
   "outputs": [
    {
     "data": {
      "text/plain": [
       "[1, 2, 3, 3, 4]"
      ]
     },
     "execution_count": 8,
     "metadata": {},
     "output_type": "execute_result"
    }
   ],
   "source": [
    "list1"
   ]
  },
  {
   "cell_type": "code",
   "execution_count": 9,
   "metadata": {},
   "outputs": [
    {
     "name": "stdout",
     "output_type": "stream",
     "text": [
      "[1, 2, 3, 4]\n"
     ]
    }
   ],
   "source": [
    "print(list(set(list1)))\n",
    "list1.insert(1,90)"
   ]
  },
  {
   "cell_type": "code",
   "execution_count": 10,
   "metadata": {},
   "outputs": [
    {
     "data": {
      "text/plain": [
       "[1, 90, 2, 3, 3, 4]"
      ]
     },
     "execution_count": 10,
     "metadata": {},
     "output_type": "execute_result"
    }
   ],
   "source": [
    "list1"
   ]
  },
  {
   "cell_type": "code",
   "execution_count": 11,
   "metadata": {},
   "outputs": [
    {
     "name": "stdout",
     "output_type": "stream",
     "text": [
      "[1, 2, 3, 3, 4, 90]\n",
      "[1, 90, 2, 3, 3, 4]\n"
     ]
    }
   ],
   "source": [
    "print(sorted(list1)) #sorted isn't in place\n",
    "print(list1)"
   ]
  },
  {
   "cell_type": "code",
   "execution_count": 12,
   "metadata": {},
   "outputs": [
    {
     "name": "stdout",
     "output_type": "stream",
     "text": [
      "1 9 25 "
     ]
    }
   ],
   "source": [
    "for i in range(6):\n",
    "    if i%2 != 0:\n",
    "        print(i**2, end = ' ')"
   ]
  },
  {
   "cell_type": "code",
   "execution_count": 13,
   "metadata": {},
   "outputs": [
    {
     "name": "stdout",
     "output_type": "stream",
     "text": [
      "1 9 25 "
     ]
    }
   ],
   "source": [
    "#Same thing using continue\n",
    "for i in range(6):\n",
    "    if i%2 == 0:\n",
    "        continue\n",
    "    print(i**2, end = ' ')"
   ]
  },
  {
   "cell_type": "code",
   "execution_count": 14,
   "metadata": {},
   "outputs": [
    {
     "data": {
      "text/plain": [
       "[1, 90, 2, 3, 3, 4]"
      ]
     },
     "execution_count": 14,
     "metadata": {},
     "output_type": "execute_result"
    }
   ],
   "source": [
    "list1"
   ]
  },
  {
   "cell_type": "code",
   "execution_count": 15,
   "metadata": {},
   "outputs": [
    {
     "name": "stdout",
     "output_type": "stream",
     "text": [
      "Total is: 103.00\n",
      "Total is: 103\n"
     ]
    }
   ],
   "source": [
    "total = 0\n",
    "for num in list1:\n",
    "    total = total + num\n",
    "\n",
    "print(\"Total is: {0:0.2f}\".format(total))\n",
    "print(\"Total is:\", total)"
   ]
  },
  {
   "cell_type": "code",
   "execution_count": 16,
   "metadata": {},
   "outputs": [],
   "source": [
    "#dictionary\n",
    "dict1 = {'a':1, 'b':2, 'c':3}"
   ]
  },
  {
   "cell_type": "code",
   "execution_count": 17,
   "metadata": {},
   "outputs": [
    {
     "data": {
      "text/plain": [
       "1"
      ]
     },
     "execution_count": 17,
     "metadata": {},
     "output_type": "execute_result"
    }
   ],
   "source": [
    "dict1['a']"
   ]
  },
  {
   "cell_type": "code",
   "execution_count": 18,
   "metadata": {},
   "outputs": [],
   "source": [
    "dict1['new'] = 4"
   ]
  },
  {
   "cell_type": "code",
   "execution_count": 19,
   "metadata": {},
   "outputs": [
    {
     "name": "stdout",
     "output_type": "stream",
     "text": [
      "{'a': 1, 'b': 2, 'c': 3, 'new': 4}\n",
      "{'b': 2, 'c': 3, 'new': 4}\n",
      "1\n"
     ]
    }
   ],
   "source": [
    "#Pop method pops a value corresponding to the key & returns it\n",
    "\n",
    "print(dict1)\n",
    "popped_value = dict1.pop('a')\n",
    "print(dict1)\n",
    "print(popped_value)"
   ]
  },
  {
   "cell_type": "code",
   "execution_count": 20,
   "metadata": {},
   "outputs": [],
   "source": [
    "del(dict1['new'])"
   ]
  },
  {
   "cell_type": "code",
   "execution_count": 21,
   "metadata": {},
   "outputs": [
    {
     "data": {
      "text/plain": [
       "{'b': 2, 'c': 3}"
      ]
     },
     "execution_count": 21,
     "metadata": {},
     "output_type": "execute_result"
    }
   ],
   "source": [
    "dict1"
   ]
  },
  {
   "cell_type": "code",
   "execution_count": 22,
   "metadata": {},
   "outputs": [
    {
     "name": "stdout",
     "output_type": "stream",
     "text": [
      "key: b value: 2\n",
      "key: c value: 3\n",
      "key: b value: 2\n",
      "key: c value: 3\n",
      "key: b value: 2\n",
      "key: c value: 3\n",
      "key: b value: 2\n",
      "key: c value: 3\n"
     ]
    }
   ],
   "source": [
    "#TRAVERSE THROUGH A DICTIONARY\n",
    "#HOW\n",
    "#dict1.items() is a method for the class dict which returns the (key,value) tuple pairs\n",
    "\n",
    "for (key,value) in dict1.items():\n",
    "    print('key:',key,'value:',value)\n",
    "    \n",
    "for key,value in dict1.items():\n",
    "    print('key:',key,'value:',value)\n",
    "    \n",
    "for s in dict1:\n",
    "    print('key:',s,'value:',dict1[s])\n",
    "    \n",
    "for s in dict1.keys():\n",
    "    print('key:',s,'value:',dict1[s])\n",
    "    "
   ]
  },
  {
   "cell_type": "code",
   "execution_count": 23,
   "metadata": {},
   "outputs": [
    {
     "name": "stdout",
     "output_type": "stream",
     "text": [
      "dict_items([('b', 2), ('c', 3)])\n",
      "dict_keys(['b', 'c'])\n"
     ]
    }
   ],
   "source": [
    "# dir(dict1)\n",
    "print(dict1.items())\n",
    "print(dict1.keys())"
   ]
  },
  {
   "cell_type": "code",
   "execution_count": 24,
   "metadata": {},
   "outputs": [
    {
     "data": {
      "text/plain": [
       "{}"
      ]
     },
     "execution_count": 24,
     "metadata": {},
     "output_type": "execute_result"
    }
   ],
   "source": [
    "dict1.clear()\n",
    "dict1"
   ]
  },
  {
   "cell_type": "code",
   "execution_count": 25,
   "metadata": {},
   "outputs": [
    {
     "name": "stdout",
     "output_type": "stream",
     "text": [
      "2.0\n",
      "4.605170185988092\n"
     ]
    }
   ],
   "source": [
    "import math\n",
    "#dir(math)\n",
    "print(math.log(100,10))\n",
    "print(math.log(100))"
   ]
  },
  {
   "cell_type": "code",
   "execution_count": 26,
   "metadata": {},
   "outputs": [
    {
     "data": {
      "text/plain": [
       "'__main__'"
      ]
     },
     "execution_count": 26,
     "metadata": {},
     "output_type": "execute_result"
    }
   ],
   "source": [
    "# if __name__ == \"__main__\": (the value of the __name__ is hard coded to \"__main__\"\n",
    "__name__"
   ]
  },
  {
   "cell_type": "markdown",
   "metadata": {},
   "source": [
    "# Exceptions\n",
    "#Handling Exceptions"
   ]
  },
  {
   "cell_type": "code",
   "execution_count": 27,
   "metadata": {},
   "outputs": [
    {
     "name": "stdout",
     "output_type": "stream",
     "text": [
      "X:7\n",
      "Y:0\n",
      "division by zero\n",
      "ZeroDivisionError\n",
      "Division: None\n"
     ]
    }
   ],
   "source": [
    "#Handling the divide by zero exception\n",
    "\n",
    "x = int(input(\"X:\"))\n",
    "y = int(input(\"Y:\"))\n",
    "try:\n",
    "    z = x/y\n",
    "except Exception as e:\n",
    "    print(e)\n",
    "    print(type(e).__name__)\n",
    "    z = None #It simply handles an exception by mentioning Z as None if error occurs!\n",
    "\n",
    "print('Division:',z)"
   ]
  },
  {
   "cell_type": "code",
   "execution_count": null,
   "metadata": {},
   "outputs": [
    {
     "name": "stdout",
     "output_type": "stream",
     "text": [
      "X:4\n"
     ]
    }
   ],
   "source": [
    "#Handling an exception with Type Mismatch\n",
    "\n",
    "x = int(input(\"X:\"))\n",
    "y = input(\"Y:\")\n",
    "try:\n",
    "    z = x/y\n",
    "except Exception as e:\n",
    "    print(e)\n",
    "    print(type(e).__name__)\n",
    "    z = None #It simply handles an exception by mentioning Z as None if error occurs!\n",
    "\n",
    "print('Division:',z)"
   ]
  },
  {
   "cell_type": "code",
   "execution_count": null,
   "metadata": {},
   "outputs": [],
   "source": [
    "class Human:\n",
    "    def __init__(self,n,o):\n",
    "        self.name = n\n",
    "        self.occupation = o\n",
    "    \n",
    "    def do_work(self):\n",
    "        if self.occupation == 'tennis':\n",
    "            print(self.name,'is a tennis player')\n",
    "        elif self.occupation == 'actor':\n",
    "            print(self.name,'is an actor')\n",
    "            \n",
    "    def speak(self):\n",
    "        print(self.name,'speaks English')"
   ]
  },
  {
   "cell_type": "code",
   "execution_count": null,
   "metadata": {},
   "outputs": [],
   "source": [
    "human1 = Human('Roger','tennis')\n",
    "human2 = Human('SRK','actor')"
   ]
  },
  {
   "cell_type": "code",
   "execution_count": null,
   "metadata": {},
   "outputs": [],
   "source": [
    "human1.do_work()\n",
    "human1.speak()\n",
    "human2.do_work()\n",
    "human2.speak()"
   ]
  },
  {
   "cell_type": "code",
   "execution_count": null,
   "metadata": {},
   "outputs": [],
   "source": [
    "class Vehicle:\n",
    "    def general_usage(self):\n",
    "        print(\"General use of Vehicle class is Transportation\")\n",
    "\n",
    "class Car(Vehicle):\n",
    "    def __init__(self):\n",
    "        print(\"I am a Car\")\n",
    "        self.wheels = 4\n",
    "        self.has_roof = 'yes'\n",
    "        \n",
    "    def specific_usage(self):\n",
    "        self.general_usage()\n",
    "        print(\"Specific Usage: Family Trip\")\n",
    "        \n",
    "        \n",
    "class Bike(Vehicle):\n",
    "    def __init__(self):\n",
    "        print(\"I am a Bike\")\n",
    "        self.wheels = 2\n",
    "        self.has_roof = 'No'\n",
    "        \n",
    "    def specific_usage(self):\n",
    "        self.general_usage()\n",
    "        print('Specific Usage: Road Trip')\n",
    "\n",
    "\n",
    "c = Car()\n",
    "b = Bike()\n",
    "\n",
    "c.general_usage()\n",
    "c.specific_usage()\n",
    "print(c.wheels,c.has_roof)\n",
    "\n",
    "\n",
    "b.general_usage()\n",
    "b.specific_usage()\n",
    "print(b.wheels,b.has_roof)"
   ]
  },
  {
   "cell_type": "code",
   "execution_count": null,
   "metadata": {},
   "outputs": [],
   "source": [
    "#Multiple Inheritence\n",
    "\n",
    "class Father:\n",
    "    def skills(self):\n",
    "        print(\"I enjoy gardening\")\n",
    "    \n",
    "class Mother:\n",
    "    def skills(self):\n",
    "        print(\"I enjoy cooking\")\n",
    "        \n",
    "class Child(Father,Mother):\n",
    "    def skills(self):\n",
    "        print('I enjoy sports')\n",
    "        Father.skills(self)\n",
    "        Mother.skills(self)\n",
    "        \n",
    "c = Child()\n",
    "c.skills()\n",
    "\n"
   ]
  },
  {
   "cell_type": "code",
   "execution_count": null,
   "metadata": {},
   "outputs": [],
   "source": [
    "#Multiple Inheritence\n",
    "\n",
    "class Father:\n",
    "    def occupation(self):\n",
    "        print(\"I work at IBM\")\n",
    "    \n",
    "class Mother:\n",
    "    def hobby(self):\n",
    "        print(\"I love cooking\")\n",
    "        \n",
    "class Child(Father,Mother):\n",
    "    def skills(self):\n",
    "        print('I am good at sports')\n",
    "\n",
    "c = Child()\n",
    "c.skills()\n",
    "c.hobby()\n",
    "c.occupation()"
   ]
  },
  {
   "cell_type": "code",
   "execution_count": null,
   "metadata": {},
   "outputs": [],
   "source": [
    "pwd"
   ]
  },
  {
   "cell_type": "code",
   "execution_count": null,
   "metadata": {},
   "outputs": [],
   "source": [
    "#Reading & Writing in a file\n",
    "f = open('C:\\\\Users\\\\vinga\\\\Documents\\\\funny.txt','w')\n",
    "f.write('I love Python')\n",
    "f.close()"
   ]
  },
  {
   "cell_type": "code",
   "execution_count": null,
   "metadata": {},
   "outputs": [],
   "source": [
    "f = open('C:\\\\Users\\\\vinga\\\\Documents\\\\funny.txt','a')\n",
    "f.write('\\nI love Javascript')\n",
    "f.close()"
   ]
  },
  {
   "cell_type": "code",
   "execution_count": null,
   "metadata": {},
   "outputs": [],
   "source": [
    "f = open('C:\\\\Users\\\\vinga\\\\Documents\\\\funny.txt','w')\n",
    "f.write('I love Python')\n",
    "f.write('\\n')\n",
    "f.write('I love Javascript')\n",
    "f.write('\\n')\n",
    "f.write('I love C#')\n",
    "f.write('\\n')\n",
    "f.close()"
   ]
  },
  {
   "cell_type": "code",
   "execution_count": null,
   "metadata": {},
   "outputs": [],
   "source": [
    "#Reading a file\n",
    "f = open('C:\\\\Users\\\\vinga\\\\Documents\\\\funny.txt','r')\n",
    "print(f.read()) #Reads a file line by line\n",
    "f.close()"
   ]
  },
  {
   "cell_type": "code",
   "execution_count": null,
   "metadata": {},
   "outputs": [],
   "source": [
    "#wordcount\n",
    "f = open('C:\\\\Users\\\\vinga\\\\Documents\\\\funny.txt','r')\n",
    "f_out = open('C:\\\\Users\\\\vinga\\\\Documents\\\\funny_out.txt','w')\n",
    "for line in f:\n",
    "    print(line)\n",
    "    print(len(line.split(' '))) #wordcount\n",
    "    f_out.write(line+'wordcount:'+str(len(line.split(' ')))+'\\n')\n",
    "\n",
    "f.close()\n",
    "f_out.close()"
   ]
  },
  {
   "cell_type": "code",
   "execution_count": null,
   "metadata": {},
   "outputs": [],
   "source": [
    "#JSON: JavaScript Object Notation\n",
    "#JSON & XML ; ya they are similar\n",
    "#JSON is a data exchange program, you can exchange program from Python program to C++, Javascript\n",
    "\n",
    "\"\"\"\n",
    "XML\n",
    "\n",
    "<name> Lucy </name>\n",
    "<address> 30 east street, brooklyn, New York </address>\n",
    "\n",
    "JSON\n",
    "\n",
    "{\n",
    "    'name':'Lucy',\n",
    "    'address':'30 east street, brooklyn, New York'\n",
    "\n",
    "}\n",
    "\n",
    "\"\"\"\n",
    "#JSON is similar representation to Dictionary. JSON is not an object, JSON is just a concept\n",
    "\n",
    "book = {}\n",
    "book['tom'] = {\n",
    "    'name':'tom',\n",
    "    'address': '30 east street, brooklyn, New York',\n",
    "    'contact': '+1 201 736 2843'\n",
    "}\n",
    "\n",
    "book['bob'] = {\n",
    "    'name':'bob',\n",
    "    'address': '40 east street, brooklyn, New York',\n",
    "    'contact': '+1 201 736 2557'\n",
    "}\n",
    "\n",
    "import json\n",
    "s = json.dumps(book) #Dumps a dictionary object into a string and convert into a JSON object\n",
    "print(s)"
   ]
  },
  {
   "cell_type": "code",
   "execution_count": null,
   "metadata": {},
   "outputs": [],
   "source": [
    "#JSON is used for data exchange program\n",
    "#In this you got to dump dictionary as string into JSON and load as a string from the JSON object and access it like a dictionary\n",
    "\n",
    "s = json.dumps(book)\n",
    "f = open('C:\\\\Users\\\\vinga\\\\Documents\\\\jsontext.txt','w')\n",
    "f.write(s) # f.write(json.dumps(book))\n",
    "f.close()\n",
    "\n",
    "f = open('C:\\\\Users\\\\vinga\\\\Documents\\\\jsontext.txt','r')\n",
    "bookdict = json.loads(f.read()) #bookdict = json.loads(json.dumps(book))\n",
    "\n",
    "\n",
    "print(type(bookdict))\n",
    "print(bookdict['bob']['address'])\n",
    "for person in bookdict:\n",
    "    print(bookdict[person])"
   ]
  },
  {
   "cell_type": "code",
   "execution_count": null,
   "metadata": {},
   "outputs": [],
   "source": [
    "# About __name__ \n",
    "# The value of __name__ is __main__ if you are writing its value in the same module\n",
    "# On importing the module, the value of __name__ from the caller function will be __(name of module)__"
   ]
  },
  {
   "cell_type": "code",
   "execution_count": null,
   "metadata": {},
   "outputs": [],
   "source": [
    "# Exceptions extended\n",
    "\n",
    "try:\n",
    "    raise MemoryError('memory error')\n",
    "except MemoryError as e:\n",
    "    print(e)\n",
    "    print(type(e).__name__)\n",
    "    "
   ]
  },
  {
   "cell_type": "code",
   "execution_count": null,
   "metadata": {},
   "outputs": [],
   "source": [
    "# All the exceptions are derived from generic class Exception\n",
    "# You can as well make use of a generic class 'Exception'\n",
    "\n",
    "try:\n",
    "    raise MemoryError('error !')\n",
    "except MemoryError as e:\n",
    "    print(e)\n",
    "    print(type(e).__name__)\n",
    "    "
   ]
  },
  {
   "cell_type": "code",
   "execution_count": null,
   "metadata": {},
   "outputs": [],
   "source": [
    "try:\n",
    "    raise Exception('Generic Exception')\n",
    "except Exception as e:\n",
    "    print(e)\n",
    "    print(type(e).__name__)"
   ]
  },
  {
   "cell_type": "code",
   "execution_count": null,
   "metadata": {},
   "outputs": [],
   "source": [
    "# Write a user defined Exception\n",
    "# Define an exception class, that exception is derived from Exception class\n",
    "# Finally is used to cleanup\n",
    "\n",
    "class Accident(Exception):\n",
    "    def __init__(self, msg):\n",
    "        self.msg = msg\n",
    "    def handle(self):\n",
    "        print('Detour from:', self.msg)\n",
    "        \n",
    "try:\n",
    "    raise Accident('crash between 2 cars')\n",
    "except Accident as a:\n",
    "    print(type(a).__name__)\n",
    "    print(a)\n",
    "    a.handle()\n",
    "        \n",
    "        "
   ]
  },
  {
   "cell_type": "code",
   "execution_count": null,
   "metadata": {},
   "outputs": [],
   "source": [
    "#Use of finally\n",
    "\n",
    "def process_file():\n",
    "    try:\n",
    "        f = open('C:\\\\Users\\\\vinga\\\\Documents\\\\funny.txt','r')\n",
    "        x = 1/0 # It can be 1000 lines of code and it's impossible to figure out all the posssible exceptions to occur, \n",
    "        # So u need finally statement to perform the final cleaning task\n",
    "    except FileNotFoundError as e:\n",
    "        print('Inside except block')\n",
    "    finally:\n",
    "        print('closing the file')\n",
    "        f.close() # If 1/0 is not handled, it won't reach f.close() statement\n",
    "    \n",
    "    \n",
    "process_file() #Function call"
   ]
  },
  {
   "cell_type": "code",
   "execution_count": null,
   "metadata": {},
   "outputs": [],
   "source": [
    "# All errors handled\n",
    "\n",
    "def process_file():\n",
    "    try:\n",
    "        f = open('C:\\\\Users\\\\vinga\\\\Documents\\\\funny.txt','r')\n",
    "        x = 1/0 # It can be 1000 lines of code and it's impossible to figure out all the posssible exceptions to occur, \n",
    "        # So u need finally statement to perform the final cleaning task\n",
    "        \n",
    "    except FileNotFoundError as e:\n",
    "        print('Inside except block')\n",
    "    except Exception as e:\n",
    "        print('Unidentified Exception occurred')\n",
    "    finally:\n",
    "        print('closing the file')\n",
    "        f.close() # If 1/0 is not handled, it won't reach f.close() statement\n",
    "        \n",
    "process_file() #Function call"
   ]
  },
  {
   "cell_type": "code",
   "execution_count": null,
   "metadata": {},
   "outputs": [],
   "source": [
    "#Iterator\n",
    "\n",
    "list1 = [1,2,3,3]\n",
    "print(dir(list1))\n",
    "print(iter(list1))\n",
    "print(len(list1))"
   ]
  },
  {
   "cell_type": "code",
   "execution_count": null,
   "metadata": {},
   "outputs": [],
   "source": [
    "# Iterator and reversed object of list1 and the next method is called on the iterator and reversed object\n",
    "\n",
    "itr = iter(list1)\n",
    "print(next(itr))\n",
    "print(next(itr))\n",
    "\n",
    "rev = reversed(list1)\n",
    "print(next(rev))\n",
    "print(next(rev))"
   ]
  },
  {
   "cell_type": "code",
   "execution_count": null,
   "metadata": {},
   "outputs": [],
   "source": [
    "class RemoteControl:\n",
    "    def __init__(self):\n",
    "        self.channels = ['HBO','CNN',\"ESPN\",\"DISCOVERY\",\"HISTORY\"]\n",
    "        self.index = -1\n",
    "        \n",
    "    def __iter__(self):\n",
    "        return self\n",
    "    \n",
    "    def __next__(self):\n",
    "        self.index = self.index + 1\n",
    "        if self.index == len(self.channels):\n",
    "            self.index = 0\n",
    "        \n",
    "        return self.channels[self.index]\n",
    "    \n",
    "    \n",
    "r = RemoteControl()\n",
    "print(type(r))\n",
    "itr = iter(r)\n",
    "print(type(itr))\n",
    "\n",
    "print(next(itr))\n",
    "print(next(itr))\n",
    "print(next(itr))\n",
    "print(next(itr))\n",
    "print(next(itr))\n",
    "print(next(itr))\n",
    "print(next(itr))\n",
    "print(next(itr))\n",
    "print(next(itr))\n",
    "print(next(itr))"
   ]
  },
  {
   "cell_type": "code",
   "execution_count": null,
   "metadata": {},
   "outputs": [],
   "source": [
    "class RemoteControl:\n",
    "    def __init__(self):\n",
    "        self.channels = ['HBO','CNN',\"ESPN\",\"DISCOVERY\",\"HISTORY\"]\n",
    "        self.index = -1\n",
    "        \n",
    "    def __iter__(self):\n",
    "        return self\n",
    "    \n",
    "    def __next__(self):\n",
    "        self.index = self.index + 1\n",
    "        if self.index == len(self.channels):\n",
    "            self.index = 0\n",
    "        \n",
    "        return self.channels[self.index]\n",
    "    \n",
    "    \n",
    "r = RemoteControl()\n",
    "\n",
    "print(next(r))\n",
    "print(next(r))\n",
    "print(next(r))"
   ]
  },
  {
   "cell_type": "code",
   "execution_count": null,
   "metadata": {},
   "outputs": [],
   "source": [
    "class RemoteControl:\n",
    "    def __init__(self):\n",
    "        self.channels = ['HBO','CNN',\"ESPN\",\"DISCOVERY\",\"HISTORY\"]\n",
    "        self.index = -1\n",
    "    \n",
    "    def __iter__(self):\n",
    "        return self\n",
    "    \n",
    "    def __next__(self):\n",
    "        self.index = self.index + 1\n",
    "        if self.index == len(self.channels):\n",
    "            raise StopIteration\n",
    "            \n",
    "        return self.channels[self.index]\n",
    "\n",
    "r = RemoteControl()\n",
    "itr = iter(r)\n",
    "print(next(itr))\n",
    "print(next(itr))\n",
    "print(next(itr))\n",
    "print(next(itr))\n",
    "print(next(itr))\n",
    "print(next(itr))\n",
    "print(next(itr))"
   ]
  },
  {
   "cell_type": "code",
   "execution_count": null,
   "metadata": {},
   "outputs": [],
   "source": [
    "# Generator makes use of yield statements\n",
    "# Yield statements can be used to return items sequentially, yield statement doesn't destroy the execution variables's state\n",
    "# Generators can be useful if you want to return a long list of variables and you can't return all of them in one go, that's could be because it will need a lot of memory\n",
    "\n",
    "def remote_control_next():\n",
    "    yield 'CNN'\n",
    "    yield 'DISCOVERY'\n",
    "    yield 'HISTORY'\n",
    "    \n",
    "r = remote_control_next()\n",
    "print(next(r))\n",
    "print(next(r))\n",
    "print(next(r))\n",
    "# One more print(next(r)) statement will raise StopIteration Exception\n",
    "\n"
   ]
  },
  {
   "cell_type": "code",
   "execution_count": null,
   "metadata": {},
   "outputs": [],
   "source": [
    "# It's fucking important to understand the difference between these 2\n",
    "\n",
    "a,b = 0,1\n",
    "a,b = b,a+b\n",
    "print(a,b)\n",
    "\n",
    "a,b = 0,1\n",
    "a = b\n",
    "b = a+b\n",
    "print(a,b)"
   ]
  },
  {
   "cell_type": "code",
   "execution_count": null,
   "metadata": {},
   "outputs": [],
   "source": [
    "def fibo():\n",
    "    a,b = 0,1\n",
    "    while True:\n",
    "        yield a # yield statement & operation be written inside loop, initializatio outside loop\n",
    "        a,b = b,a+b\n",
    "\n",
    "# Print 10 numbers in the Fibonacci series        \n",
    "f = fibo()\n",
    "for i in range(10):\n",
    "    print(next(f), end=' ')\n",
    "\n",
    "print('\\n')\n",
    "\n",
    "# Print Fibonacci numbers not greater than 13\n",
    "for x in fibo():\n",
    "    if x>13:\n",
    "        break    \n",
    "    print(x, end=' ')"
   ]
  },
  {
   "cell_type": "code",
   "execution_count": null,
   "metadata": {},
   "outputs": [],
   "source": [
    "# Generators in brief\n",
    "\n",
    "def remote():\n",
    "    yield 'cnn'\n",
    "    yield 'espn'\n",
    "    \n",
    "for x in remote():\n",
    "    print(x)\n",
    "    \n",
    "f = remote()\n",
    "for i in range(2):\n",
    "    print(next(f))"
   ]
  },
  {
   "cell_type": "code",
   "execution_count": null,
   "metadata": {},
   "outputs": [],
   "source": [
    "# List Comprehension\n",
    "\n",
    "print([x**2 for x in range(10)])\n",
    "print([x for x in range(10) if x%2==0])\n"
   ]
  },
  {
   "cell_type": "code",
   "execution_count": null,
   "metadata": {},
   "outputs": [],
   "source": [
    "cities = ['Mumbai','New York','Paris']\n",
    "countries = ['India','USA','France']\n",
    "print(cities+countries) # Appends the lists\n",
    "\n",
    "z = zip(cities,countries) # Zip object with the tuple pairs\n",
    "print(z)\n",
    "print([k for k in z])\n",
    "print({k:v for k,v in zip(cities,countries)})\n",
    "print(dict(zip(cities,countries)))"
   ]
  },
  {
   "cell_type": "code",
   "execution_count": null,
   "metadata": {},
   "outputs": [],
   "source": [
    "a = set([1,2,3,3,3,3,4])\n",
    "b = set()\n",
    "# Set doesn't allow indexing \n",
    "# Set is unordered collection of unique elements\n",
    "b.add(2)\n",
    "print(a)\n",
    "print(b)\n",
    "\n",
    "# Frozen set doesn't allow adding a new element, throws an error 'frozenset' object has no attribute 'add'\n",
    "# b = frozenset()\n",
    "\n",
    "# It is named set for a reason. All set operations can be performed on this sets\n",
    "print(a|b)\n",
    "print(a>b)\n",
    "print(a-b)\n",
    "print(a&b)"
   ]
  },
  {
   "cell_type": "code",
   "execution_count": null,
   "metadata": {},
   "outputs": [],
   "source": []
  }
 ],
 "metadata": {
  "kernelspec": {
   "display_name": "Python 3",
   "language": "python",
   "name": "python3"
  },
  "language_info": {
   "codemirror_mode": {
    "name": "ipython",
    "version": 3
   },
   "file_extension": ".py",
   "mimetype": "text/x-python",
   "name": "python",
   "nbconvert_exporter": "python",
   "pygments_lexer": "ipython3",
   "version": "3.6.5"
  }
 },
 "nbformat": 4,
 "nbformat_minor": 2
}
