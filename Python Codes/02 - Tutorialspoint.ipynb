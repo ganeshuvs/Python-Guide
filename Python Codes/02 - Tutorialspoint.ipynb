{
 "cells": [
  {
   "cell_type": "markdown",
   "metadata": {},
   "source": [
    "# Using else Statement with Loops"
   ]
  },
  {
   "cell_type": "code",
   "execution_count": 1,
   "metadata": {},
   "outputs": [
    {
     "name": "stdout",
     "output_type": "stream",
     "text": [
      "The list doesn't contain an even number\n",
      "The list contains an even number\n"
     ]
    }
   ],
   "source": [
    "nums = [11,13,15,79,77,5,35,65]\n",
    "\n",
    "for num in nums:\n",
    "    if num%2 == 0:\n",
    "        print('The list contains an even number')\n",
    "        break\n",
    "else:\n",
    "    print(\"The list doesn't contain an even number\")\n",
    "    \n",
    "nums2 = [11,13,16,79,77,5,35,65]\n",
    "for num in nums2:\n",
    "    if num%2 == 0:\n",
    "        print('The list contains an even number')\n",
    "        break\n",
    "else:\n",
    "    print(\"The list doesn't contain an even number\")\n",
    "    "
   ]
  },
  {
   "cell_type": "markdown",
   "metadata": {},
   "source": [
    "# Iterator\n"
   ]
  },
  {
   "cell_type": "code",
   "execution_count": 2,
   "metadata": {},
   "outputs": [
    {
     "name": "stdout",
     "output_type": "stream",
     "text": [
      "1\n",
      "2\n",
      "3\n",
      "4\n"
     ]
    }
   ],
   "source": [
    "# Iterator can as well be accessed using a for loop like generator\n",
    "list = [1,2,3,4]\n",
    "it = iter(list) # this builds an iterator object\n",
    "print(next(it)) # prints next available element in iterator\n",
    "\n",
    "for x in it:\n",
    "    print(x)"
   ]
  },
  {
   "cell_type": "code",
   "execution_count": 3,
   "metadata": {},
   "outputs": [
    {
     "name": "stdout",
     "output_type": "stream",
     "text": [
      "1\n",
      "2\n",
      "3\n",
      "4\n"
     ]
    }
   ],
   "source": [
    "# Iterator using the next statement\n",
    "list1 = [1,2,3,4]\n",
    "itr = iter(list1)\n",
    "\n",
    "for i in range(len(list1)):\n",
    "    print(next(itr))"
   ]
  },
  {
   "cell_type": "markdown",
   "metadata": {},
   "source": [
    "# Generator"
   ]
  },
  {
   "cell_type": "markdown",
   "metadata": {},
   "source": [
    "A generator is a function that produces or yields a sequence of values using yield method. When the next() method is called for the first time, the function starts executing until it reaches the yield statement, which returns the yielded value. The yield keeps track i.e. remembers the last execution and the second next() call continues from previous value."
   ]
  },
  {
   "cell_type": "code",
   "execution_count": 4,
   "metadata": {},
   "outputs": [
    {
     "name": "stdout",
     "output_type": "stream",
     "text": [
      "0 1 1 2 3 5 8 13 21 34 "
     ]
    },
    {
     "ename": "SystemExit",
     "evalue": "",
     "output_type": "error",
     "traceback": [
      "An exception has occurred, use %tb to see the full traceback.\n",
      "\u001b[1;31mSystemExit\u001b[0m\n"
     ]
    },
    {
     "name": "stderr",
     "output_type": "stream",
     "text": [
      "C:\\Users\\vinga\\Anaconda3\\lib\\site-packages\\IPython\\core\\interactiveshell.py:2971: UserWarning: To exit: use 'exit', 'quit', or Ctrl-D.\n",
      "  warn(\"To exit: use 'exit', 'quit', or Ctrl-D.\", stacklevel=1)\n"
     ]
    }
   ],
   "source": [
    "import sys\n",
    "def fibonacci(n): # generator function\n",
    "    a, b, counter = 0, 1, 0\n",
    "    while counter<n:\n",
    "        yield a\n",
    "        a, b = b, a + b\n",
    "        counter += 1\n",
    "f = fibonacci(10)\n",
    "\n",
    "while True:\n",
    "    try:\n",
    "        print(next(f), end=\" \")\n",
    "    except StopIteration as e:\n",
    "        sys.exit()"
   ]
  },
  {
   "cell_type": "code",
   "execution_count": 5,
   "metadata": {},
   "outputs": [
    {
     "name": "stdout",
     "output_type": "stream",
     "text": [
      "cnn\n",
      "espn\n",
      "cnn\n",
      "espn\n"
     ]
    }
   ],
   "source": [
    "# Ways to access generators\n",
    "# There are 2 ways ! 1. Using for loop over the generator object 2. Using a next statement on the generator object\n",
    "\n",
    "def remote():\n",
    "    yield 'cnn'\n",
    "    yield 'espn'\n",
    "    \n",
    "for x in remote():\n",
    "    print(x)\n",
    "    \n",
    "f = remote()\n",
    "for i in range(2):\n",
    "    print(next(f))"
   ]
  },
  {
   "cell_type": "code",
   "execution_count": 6,
   "metadata": {},
   "outputs": [
    {
     "name": "stdout",
     "output_type": "stream",
     "text": [
      "Values inside the called function before change:  [10, 20, 30]\n",
      "Values inside the called function after change:  [60, 70, 80]\n",
      "Values in the calling function:  [10, 20, 30]\n"
     ]
    }
   ],
   "source": [
    "# All parameters (arguments) in the Python language are passed by reference. \n",
    "# It means if you change what a parameter refers to within a called function, the change reflects back in the calling function\n",
    "# Strange thing is if the list is entirely renamed, then the change is local and doesn't affect the calling function\n",
    "\n",
    "def changeme(mylist1):\n",
    "    print(\"Values inside the called function before change: \", mylist1)\n",
    "    mylist1 = [60,70,80]\n",
    "    print(\"Values inside the called function after change: \", mylist1)\n",
    "\n",
    "# Now you can call changeme function\n",
    "mylist = [10,20,30]\n",
    "changeme(mylist)\n",
    "print(\"Values in the calling function: \", mylist)"
   ]
  },
  {
   "cell_type": "code",
   "execution_count": 7,
   "metadata": {},
   "outputs": [
    {
     "name": "stdout",
     "output_type": "stream",
     "text": [
      "Values inside the called function before change:  [10, 20, 30]\n",
      "Values inside the called function after change:  [60, 70, 80]\n",
      "Values in the calling function:  [60, 70, 80]\n"
     ]
    }
   ],
   "source": [
    "# This is pass by reference, really strange isn't it?\n",
    "def changeme(mylist1):\n",
    "    print(\"Values inside the called function before change: \", mylist1)\n",
    "    mylist1[0] = 60\n",
    "    mylist1[1] = 70\n",
    "    mylist1[2] = 80\n",
    "    print(\"Values inside the called function after change: \", mylist1)\n",
    "\n",
    "# Now you can call changeme function\n",
    "mylist = [10,20,30]\n",
    "changeme(mylist)\n",
    "print(\"Values in the calling function: \", mylist) # Values are updated in calling function"
   ]
  },
  {
   "cell_type": "code",
   "execution_count": 8,
   "metadata": {},
   "outputs": [
    {
     "name": "stdout",
     "output_type": "stream",
     "text": [
      "Output is: \n",
      "10\n",
      "Output is: \n",
      "70\n",
      "60\n",
      "50\n",
      "40\n",
      "30\n"
     ]
    }
   ],
   "source": [
    "# Variable length of arguments while function declaration\n",
    "\n",
    "def printinfo(arg1, *vararg):\n",
    "    print(\"Output is: \")\n",
    "    print(arg1)\n",
    "   \n",
    "    for var in vararg:\n",
    "        print(var)\n",
    "\n",
    "# Now you can call printinfo function\n",
    "printinfo(10)\n",
    "printinfo(70,60,50,40,30)"
   ]
  },
  {
   "cell_type": "markdown",
   "metadata": {},
   "source": [
    "# Lambda Expression/Anonymous Function"
   ]
  },
  {
   "cell_type": "markdown",
   "metadata": {},
   "source": [
    "The syntax of lambda functions contains only a single statement, which is as follows"
   ]
  },
  {
   "cell_type": "code",
   "execution_count": 9,
   "metadata": {},
   "outputs": [
    {
     "data": {
      "text/plain": [
       "11"
      ]
     },
     "execution_count": 9,
     "metadata": {},
     "output_type": "execute_result"
    }
   ],
   "source": [
    "# Syntax for lambda expression is: (lambda x,y:x+y)\n",
    "sumfunc = lambda x,y:x+y\n",
    "sumfunc(5,6)"
   ]
  },
  {
   "cell_type": "markdown",
   "metadata": {},
   "source": [
    "Fibonacci Number with single return statement and not 'yield' statement.\n",
    "In this case, a list of fibonacci numbers is returned instead of single element"
   ]
  },
  {
   "cell_type": "code",
   "execution_count": 10,
   "metadata": {},
   "outputs": [
    {
     "name": "stdout",
     "output_type": "stream",
     "text": [
      "[0, 1, 1, 2, 3, 5, 8, 13, 21, 34, 55, 89]\n"
     ]
    }
   ],
   "source": [
    "# Return Fibonacci series up to n\n",
    "def fibona(n):\n",
    "    a,b = 0,1\n",
    "    fiblist = []\n",
    "    \n",
    "    while a<n:\n",
    "        fiblist.append(a)\n",
    "        a,b = b,a+b\n",
    "    return fiblist\n",
    "\n",
    "print(fibona(100))"
   ]
  },
  {
   "cell_type": "markdown",
   "metadata": {},
   "source": [
    "Within a module, the module’s name (as a string) is available as the value of the global variable __name__\n",
    "The code in the module will be executed, just as if you imported it, but with the __name__ set to \"__main__\"."
   ]
  },
  {
   "cell_type": "code",
   "execution_count": 11,
   "metadata": {},
   "outputs": [
    {
     "data": {
      "text/plain": [
       "'__main__'"
      ]
     },
     "execution_count": 11,
     "metadata": {},
     "output_type": "execute_result"
    }
   ],
   "source": [
    "__name__"
   ]
  },
  {
   "cell_type": "code",
   "execution_count": 12,
   "metadata": {},
   "outputs": [
    {
     "name": "stdout",
     "output_type": "stream",
     "text": [
      "__name__ is: myfibonacci\n"
     ]
    }
   ],
   "source": [
    "from myfibonacci import myfibo"
   ]
  },
  {
   "cell_type": "code",
   "execution_count": 13,
   "metadata": {},
   "outputs": [
    {
     "name": "stdout",
     "output_type": "stream",
     "text": [
      "__name__ is: myfibonacci\n",
      "[0, 1, 1, 2, 3, 5, 8, 13, 21, 34, 55, 89]\n"
     ]
    }
   ],
   "source": [
    "list1 = myfibo(100)\n",
    "print(list1)"
   ]
  },
  {
   "cell_type": "markdown",
   "metadata": {},
   "source": [
    "The value of __name__ in the called function is __main__ and it is 'name of the called function' in the calling function"
   ]
  },
  {
   "cell_type": "markdown",
   "metadata": {},
   "source": [
    "# Namespace & Scoping"
   ]
  },
  {
   "cell_type": "code",
   "execution_count": 14,
   "metadata": {},
   "outputs": [
    {
     "name": "stdout",
     "output_type": "stream",
     "text": [
      "2000\n",
      "Local Variable Money: 2001\n",
      "2000\n"
     ]
    }
   ],
   "source": [
    "Money = 2000\n",
    "def AddMoney():\n",
    "    Money = 2000 # Now this Money variable becomes local\n",
    "    Money = Money + 1\n",
    "    print('Local Variable Money:', Money)\n",
    "    \n",
    "print(Money)\n",
    "AddMoney()\n",
    "print(Money)"
   ]
  },
  {
   "cell_type": "markdown",
   "metadata": {},
   "source": [
    "To make change in the global variable Money"
   ]
  },
  {
   "cell_type": "code",
   "execution_count": 15,
   "metadata": {},
   "outputs": [
    {
     "name": "stdout",
     "output_type": "stream",
     "text": [
      "2000\n",
      "2001\n"
     ]
    }
   ],
   "source": [
    "Money = 2000\n",
    "def AddMoney():\n",
    "    global Money # To refer to a global variable Money\n",
    "    Money = Money + 1\n",
    "    \n",
    "print(Money)\n",
    "AddMoney()\n",
    "print(Money)"
   ]
  },
  {
   "cell_type": "markdown",
   "metadata": {},
   "source": [
    "# Standard Exceptions"
   ]
  },
  {
   "cell_type": "markdown",
   "metadata": {},
   "source": [
    "Exception, Base class for all exceptions\n",
    "\n",
    "StopIteration, Raised when the next() method of an iterator does not point to any object\n",
    "\n",
    "SystemExit, Raised by the sys.exit() function\n",
    "\n",
    "StandardError, Base class for all built-in exceptions except StopIteration and SystemExit."
   ]
  },
  {
   "cell_type": "markdown",
   "metadata": {},
   "source": [
    "# Handling an Exception"
   ]
  },
  {
   "cell_type": "markdown",
   "metadata": {},
   "source": [
    "In try block, try: You do your operations here\n",
    "\n",
    "except: If there is any exception, then execute this block\n",
    "\n",
    "else: If there is no exception then execute this block"
   ]
  },
  {
   "cell_type": "code",
   "execution_count": 16,
   "metadata": {},
   "outputs": [
    {
     "name": "stdout",
     "output_type": "stream",
     "text": [
      "Written content in the file successfully\n"
     ]
    }
   ],
   "source": [
    "try:\n",
    "    fh = open(\"testfile\", \"w\")\n",
    "    fh.write(\"This is my test file for exception handling!!\")\n",
    "except IOError:\n",
    "    print (\"Error: can\\'t find file or read data\")\n",
    "else:\n",
    "    print (\"Written content in the file successfully\")\n",
    "    fh.close()"
   ]
  },
  {
   "cell_type": "markdown",
   "metadata": {},
   "source": [
    "When an exception is thrown in the try block, the execution immediately passes to the finally block for the inner try-except block, that is because except block is not defined for the inner try-except block. After all the statements in the finally block are executed, the exception is raised again, as there is an unhandled exception in the innere try block overall and is handled in the except statements if present in the next higher layer of the try-except statement."
   ]
  },
  {
   "cell_type": "code",
   "execution_count": 17,
   "metadata": {},
   "outputs": [
    {
     "name": "stdout",
     "output_type": "stream",
     "text": [
      "Going to close the file\n",
      "Error: can't find file or write data causing I/O error\n"
     ]
    }
   ],
   "source": [
    "try:\n",
    "    fh = open(\"testfile\", \"r\")\n",
    "    try:\n",
    "        fh.write(\"This is my test file for exception handling!!\")\n",
    "    finally:\n",
    "        print (\"Going to close the file\")\n",
    "        fh.close()\n",
    "except IOError:\n",
    "    print (\"Error: can\\'t find file or write data causing I/O error\")"
   ]
  },
  {
   "cell_type": "markdown",
   "metadata": {},
   "source": [
    "An exception can be a string, a class or an object. Most of the exceptions that the Python core raises are classes, with an argument that is an instance of the class. Note again, \"an argument is an instance of a class\""
   ]
  },
  {
   "cell_type": "code",
   "execution_count": 18,
   "metadata": {},
   "outputs": [
    {
     "name": "stdout",
     "output_type": "stream",
     "text": [
      "not writable\n",
      "Going to close the file\n"
     ]
    }
   ],
   "source": [
    "try:\n",
    "    fh = open(\"testfile\", \"r\")\n",
    "    fh.write(\"This is my test file for exception handling!!\")\n",
    "except IOError as e: # An exception can have an argument(e here), which gives additional information about the problem.\n",
    "    print(e)\n",
    "finally:\n",
    "        print(\"Going to close the file\")\n",
    "        fh.close()"
   ]
  },
  {
   "cell_type": "code",
   "execution_count": 19,
   "metadata": {},
   "outputs": [
    {
     "name": "stdout",
     "output_type": "stream",
     "text": [
      "-10\n",
      "error in level argument: -10\n"
     ]
    }
   ],
   "source": [
    "def functionName(level):\n",
    "    if level<1:\n",
    "        raise Exception(level)\n",
    "\n",
    "try:\n",
    "    functionName(-10) # This will raise an exception\n",
    "    print(\"This print statement executes only if level>1\") # This won't be executed as the level<1\n",
    "except Exception as e:\n",
    "    print(e)\n",
    "    print(\"error in level argument:\",e.args[0])"
   ]
  },
  {
   "cell_type": "markdown",
   "metadata": {},
   "source": [
    "# User Defined Exceptions"
   ]
  },
  {
   "cell_type": "markdown",
   "metadata": {},
   "source": [
    "This is useful when you need to display more specific information when an exception is caught.\n",
    "In the try block, the user-defined exception is raised and caught in the except block. The variable e is used to create an instance of the class Networkerror"
   ]
  },
  {
   "cell_type": "code",
   "execution_count": 21,
   "metadata": {},
   "outputs": [
    {
     "name": "stdout",
     "output_type": "stream",
     "text": [
      "('B', 'a', 'd', ' ', 'h', 'o', 's', 't', 'n', 'a', 'm', 'e')\n",
      "Bad hostname\n",
      "('B', 'a', 'd', ' ', 'h', 'o', 's', 't', 'n', 'a', 'm', 'e')\n"
     ]
    }
   ],
   "source": [
    "class NetworkError(RuntimeError):\n",
    "    def __init__(self, err):\n",
    "        self.errorname = err\n",
    "        self.args = err # args can be a special keyword which forms a tuple of the argument assigned to it\n",
    "\n",
    "try:\n",
    "    raise NetworkError(\"Bad hostname\")\n",
    "except NetworkError as e:\n",
    "    print(e)\n",
    "    print(e.errorname)\n",
    "    print(e.args)"
   ]
  },
  {
   "cell_type": "markdown",
   "metadata": {},
   "source": [
    "# Classes: Object Oriented Programing"
   ]
  },
  {
   "cell_type": "markdown",
   "metadata": {},
   "source": [
    "The class has a documentation string, which can be accessed via ClassName dot__doc__"
   ]
  },
  {
   "cell_type": "code",
   "execution_count": 25,
   "metadata": {},
   "outputs": [],
   "source": [
    "class Employee:\n",
    "    empCount = 0\n",
    "\n",
    "    def __init__(self, name, salary):\n",
    "        self.name = name\n",
    "        self.salary = salary\n",
    "        Employee.empCount += 1\n",
    "   \n",
    "    def displayCount(self):\n",
    "        print(\"Employee Count:\", Employee.empCount)\n",
    "\n",
    "    def displayEmployee(self):\n",
    "        print(\"Current EmpName: \",self.name,\", EmpSalary: \", self.salary)"
   ]
  },
  {
   "cell_type": "code",
   "execution_count": 27,
   "metadata": {},
   "outputs": [
    {
     "name": "stdout",
     "output_type": "stream",
     "text": [
      "Current EmpName:  Zara , EmpSalary:  2000\n",
      "Current EmpName:  Manni , EmpSalary:  5000\n",
      "Total Employee: 4\n"
     ]
    }
   ],
   "source": [
    "emp1 = Employee(\"Zara\", 2000)\n",
    "emp2 = Employee(\"Manni\", 5000)\n",
    "emp1.displayEmployee()\n",
    "emp2.displayEmployee()\n",
    "print (\"Total Employee: {count}\".format(count=Employee.empCount))"
   ]
  },
  {
   "cell_type": "markdown",
   "metadata": {},
   "source": [
    "# Base Overloading Methods"
   ]
  },
  {
   "cell_type": "markdown",
   "metadata": {},
   "source": [
    "__init__ ( self [,args...] )\n",
    "Constructor (with any optional arguments\n",
    "\n",
    "__del__( self )\n",
    "Destructor, deletes an object\n",
    "Sample Call : del obj\n",
    "\n",
    "__repr__( self )\n",
    "Evaluatable string representation\n",
    "Sample Call : repr(obj)\n",
    "\n",
    "__str__( self )\n",
    "Printable string representation\n",
    "Sample Call : str(obj)\n",
    "\n",
    "__cmp__ ( self, x )\n",
    "Object comparison\n",
    "Sample Call : cmp(obj, x)"
   ]
  },
  {
   "cell_type": "code",
   "execution_count": 30,
   "metadata": {},
   "outputs": [
    {
     "name": "stdout",
     "output_type": "stream",
     "text": [
      "Vector(7, 8)\n"
     ]
    }
   ],
   "source": [
    "class Vector:\n",
    "    def __init__(self, a, b):\n",
    "        self.a = a\n",
    "        self.b = b\n",
    "\n",
    "    def __str__(self):\n",
    "        return 'Vector(%d, %d)' %(self.a, self.b)\n",
    "   \n",
    "    def __add__(self,other):\n",
    "        return Vector(self.a + other.a, self.b + other.b)\n",
    "\n",
    "v1 = Vector(2,10)\n",
    "v2 = Vector(5,-2)\n",
    "print (v1 + v2)"
   ]
  },
  {
   "cell_type": "code",
   "execution_count": null,
   "metadata": {},
   "outputs": [],
   "source": []
  }
 ],
 "metadata": {
  "kernelspec": {
   "display_name": "Python 3",
   "language": "python",
   "name": "python3"
  },
  "language_info": {
   "codemirror_mode": {
    "name": "ipython",
    "version": 3
   },
   "file_extension": ".py",
   "mimetype": "text/x-python",
   "name": "python",
   "nbconvert_exporter": "python",
   "pygments_lexer": "ipython3",
   "version": "3.6.5"
  }
 },
 "nbformat": 4,
 "nbformat_minor": 2
}
